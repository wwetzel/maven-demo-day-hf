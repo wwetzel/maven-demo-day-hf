version https://git-lfs.github.com/spec/v1
oid sha256:f7b37a738ea3f45506ca7c69b13c70efd389487ba88aacf991ee6aa04f7ba5a6
size 3806375
